{
 "cells": [
  {
   "cell_type": "code",
   "execution_count": 28,
   "id": "ee315b20",
   "metadata": {},
   "outputs": [
    {
     "name": "stdout",
     "output_type": "stream",
     "text": [
      "<class 'pandas.core.frame.DataFrame'>\n",
      "RangeIndex: 84471 entries, 0 to 84470\n",
      "Data columns (total 26 columns):\n",
      " #   Column                  Non-Null Count  Dtype \n",
      "---  ------                  --------------  ----- \n",
      " 0   COMP                    84471 non-null  int64 \n",
      " 1   REGIAO                  84471 non-null  object\n",
      " 2   UF                      84471 non-null  object\n",
      " 3   MUNICIPIO               84471 non-null  object\n",
      " 4   NOME_ESTABELECIMENTO    84471 non-null  object\n",
      " 5   DESC_NATUREZA_JURIDICA  84471 non-null  object\n",
      " 6   NO_LOGRADOURO           84471 non-null  object\n",
      " 7   NU_ENDERECO             84471 non-null  object\n",
      " 8   NO_BAIRRO               84471 non-null  object\n",
      " 9   CO_CEP                  84471 non-null  int64 \n",
      " 10  NU_TELEFONE             75028 non-null  object\n",
      " 11  NO_EMAIL                55897 non-null  object\n",
      " 12  LEITOS_EXISTENTES       84471 non-null  int64 \n",
      " 13  LEITOS_SUS              84471 non-null  int64 \n",
      " 14  UTI_TOTAL_EXIST         84471 non-null  int64 \n",
      " 15  UTI_TOTAL_SUS           84471 non-null  int64 \n",
      " 16  UTI_ADULTO_EXIST        84471 non-null  int64 \n",
      " 17  UTI_ADULTO_SUS          84471 non-null  int64 \n",
      " 18  UTI_PEDIATRICO_EXIST    84471 non-null  int64 \n",
      " 19  UTI_PEDIATRICO_SUS      84471 non-null  int64 \n",
      " 20  UTI_NEONATAL_EXIST      84471 non-null  int64 \n",
      " 21  UTI_NEONATAL_SUS        84471 non-null  int64 \n",
      " 22  UTI_QUEIMADO_EXIST      84471 non-null  int64 \n",
      " 23  UTI_QUEIMADO_SUS        84471 non-null  int64 \n",
      " 24  UTI_CORONARIANA_EXIST   84471 non-null  int64 \n",
      " 25  UTI_CORONARIANA_SUS     84471 non-null  int64 \n",
      "dtypes: int64(16), object(10)\n",
      "memory usage: 16.8+ MB\n"
     ]
    },
    {
     "data": {
      "text/plain": [
       "None"
      ]
     },
     "metadata": {},
     "output_type": "display_data"
    }
   ],
   "source": [
    "#Importar o primeiro banco de dados de leitos\n",
    "import pandas as pd\n",
    "leitos_23 = pd.read_csv(\"Leitos_2023.csv\", encoding=\"latin-1\")\n",
    "leitos_23 = leitos_23.drop(columns=[\"MOTIVO_DESABILITACAO\",\"CNES\",\"CO_TIPO_UNIDADE\",\"DS_TIPO_UNIDADE\",\"NATUREZA_JURIDICA\",\"TP_GESTAO\",\"RAZAO_SOCIAL\",\"NO_COMPLEMENTO\"])\n",
    "display(leitos_23.info())\n",
    "\n",
    "\n",
    "\n",
    "\n",
    "\n",
    "\n",
    "\n"
   ]
  },
  {
   "cell_type": "code",
   "execution_count": 29,
   "id": "d69652da",
   "metadata": {},
   "outputs": [
    {
     "name": "stdout",
     "output_type": "stream",
     "text": [
      "<class 'pandas.core.frame.DataFrame'>\n",
      "RangeIndex: 85225 entries, 0 to 85224\n",
      "Data columns (total 26 columns):\n",
      " #   Column                  Non-Null Count  Dtype \n",
      "---  ------                  --------------  ----- \n",
      " 0   COMP                    85225 non-null  int64 \n",
      " 1   REGIAO                  85225 non-null  object\n",
      " 2   UF                      85225 non-null  object\n",
      " 3   MUNICIPIO               85225 non-null  object\n",
      " 4   NOME_ESTABELECIMENTO    85225 non-null  object\n",
      " 5   DESC_NATUREZA_JURIDICA  85225 non-null  object\n",
      " 6   NO_LOGRADOURO           85225 non-null  object\n",
      " 7   NU_ENDERECO             85225 non-null  object\n",
      " 8   NO_BAIRRO               85225 non-null  object\n",
      " 9   CO_CEP                  85225 non-null  int64 \n",
      " 10  NU_TELEFONE             75403 non-null  object\n",
      " 11  NO_EMAIL                56878 non-null  object\n",
      " 12  LEITOS_EXISTENTES       85225 non-null  int64 \n",
      " 13  LEITOS_SUS              85225 non-null  int64 \n",
      " 14  UTI_TOTAL_EXIST         85225 non-null  int64 \n",
      " 15  UTI_TOTAL_SUS           85225 non-null  int64 \n",
      " 16  UTI_ADULTO_EXIST        85225 non-null  int64 \n",
      " 17  UTI_ADULTO_SUS          85225 non-null  int64 \n",
      " 18  UTI_PEDIATRICO_EXIST    85225 non-null  int64 \n",
      " 19  UTI_PEDIATRICO_SUS      85225 non-null  int64 \n",
      " 20  UTI_NEONATAL_EXIST      85225 non-null  int64 \n",
      " 21  UTI_NEONATAL_SUS        85225 non-null  int64 \n",
      " 22  UTI_QUEIMADO_EXIST      85225 non-null  int64 \n",
      " 23  UTI_QUEIMADO_SUS        85225 non-null  int64 \n",
      " 24  UTI_CORONARIANA_EXIST   85225 non-null  int64 \n",
      " 25  UTI_CORONARIANA_SUS     85225 non-null  int64 \n",
      "dtypes: int64(16), object(10)\n",
      "memory usage: 16.9+ MB\n"
     ]
    },
    {
     "data": {
      "text/plain": [
       "None"
      ]
     },
     "metadata": {},
     "output_type": "display_data"
    }
   ],
   "source": [
    "leitos_24 = pd.read_csv(\"Leitos_2024.csv\", encoding=\"latin-1\")\n",
    "leitos_24 = leitos_24.drop(columns=[\"MOTIVO_DESABILITACAO\",\"CNES\",\"CO_TIPO_UNIDADE\",\"DS_TIPO_UNIDADE\",\"NATUREZA_JURIDICA\",\"TP_GESTAO\",\"RAZAO_SOCIAL\",\"NO_COMPLEMENTO\"])\n",
    "display(leitos_24.info())"
   ]
  },
  {
   "cell_type": "code",
   "execution_count": 30,
   "id": "3cc70a8f",
   "metadata": {},
   "outputs": [
    {
     "name": "stdout",
     "output_type": "stream",
     "text": [
      "<class 'pandas.core.frame.DataFrame'>\n",
      "RangeIndex: 50174 entries, 0 to 50173\n",
      "Data columns (total 27 columns):\n",
      " #   Column                  Non-Null Count  Dtype \n",
      "---  ------                  --------------  ----- \n",
      " 0   COMP                    50174 non-null  int64 \n",
      " 1   REGIAO                  50174 non-null  object\n",
      " 2   UF                      50174 non-null  object\n",
      " 3   CO_IBGE                 50174 non-null  int64 \n",
      " 4   MUNICIPIO               50174 non-null  object\n",
      " 5   NOME_ESTABELECIMENTO    50172 non-null  object\n",
      " 6   DESC_NATUREZA_JURIDICA  50174 non-null  object\n",
      " 7   NO_LOGRADOURO           50174 non-null  object\n",
      " 8   NU_ENDERECO             50174 non-null  object\n",
      " 9   NO_BAIRRO               50174 non-null  object\n",
      " 10  CO_CEP                  50174 non-null  int64 \n",
      " 11  NU_TELEFONE             44350 non-null  object\n",
      " 12  NO_EMAIL                33857 non-null  object\n",
      " 13  LEITOS_EXISTENTES       50174 non-null  int64 \n",
      " 14  LEITOS_SUS              50174 non-null  int64 \n",
      " 15  UTI_TOTAL_EXIST         50174 non-null  int64 \n",
      " 16  UTI_TOTAL_SUS           50174 non-null  int64 \n",
      " 17  UTI_ADULTO_EXIST        50174 non-null  int64 \n",
      " 18  UTI_ADULTO_SUS          50174 non-null  int64 \n",
      " 19  UTI_PEDIATRICO_EXIST    50174 non-null  int64 \n",
      " 20  UTI_PEDIATRICO_SUS      50174 non-null  int64 \n",
      " 21  UTI_NEONATAL_EXIST      50174 non-null  int64 \n",
      " 22  UTI_NEONATAL_SUS        50174 non-null  int64 \n",
      " 23  UTI_QUEIMADO_EXIST      50174 non-null  int64 \n",
      " 24  UTI_QUEIMADO_SUS        50174 non-null  int64 \n",
      " 25  UTI_CORONARIANA_EXIST   50174 non-null  int64 \n",
      " 26  UTI_CORONARIANA_SUS     50174 non-null  int64 \n",
      "dtypes: int64(17), object(10)\n",
      "memory usage: 10.3+ MB\n"
     ]
    },
    {
     "data": {
      "text/plain": [
       "None"
      ]
     },
     "metadata": {},
     "output_type": "display_data"
    }
   ],
   "source": [
    "leitos_25 = pd.read_csv(\"Leitos_2025.csv\", encoding=\"latin-1\" , sep=\";\")\n",
    "leitos_25 = leitos_25.drop(columns=[\"MOTIVO_DESABILITACAO\",\"CNES\",\"CO_TIPO_UNIDADE\",\"DS_TIPO_UNIDADE\",\"NATUREZA_JURIDICA\",\"TP_GESTAO\",\"RAZAO_SOCIAL\",\"NO_COMPLEMENTO\"])\n",
    "display(leitos_25.info())"
   ]
  }
 ],
 "metadata": {
  "kernelspec": {
   "display_name": "Python 3",
   "language": "python",
   "name": "python3"
  },
  "language_info": {
   "codemirror_mode": {
    "name": "ipython",
    "version": 3
   },
   "file_extension": ".py",
   "mimetype": "text/x-python",
   "name": "python",
   "nbconvert_exporter": "python",
   "pygments_lexer": "ipython3",
   "version": "3.13.1"
  }
 },
 "nbformat": 4,
 "nbformat_minor": 5
}
