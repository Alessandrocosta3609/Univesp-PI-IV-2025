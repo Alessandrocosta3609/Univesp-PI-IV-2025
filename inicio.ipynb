{
 "cells": [
  {
   "cell_type": "code",
   "execution_count": 16,
   "id": "ee315b20",
   "metadata": {},
   "outputs": [
    {
     "name": "stdout",
     "output_type": "stream",
     "text": [
      "<class 'pandas.core.frame.DataFrame'>\n",
      "RangeIndex: 84471 entries, 0 to 84470\n",
      "Data columns (total 34 columns):\n",
      " #   Column                  Non-Null Count  Dtype  \n",
      "---  ------                  --------------  -----  \n",
      " 0   COMP                    84471 non-null  int64  \n",
      " 1   REGIAO                  84471 non-null  object \n",
      " 2   UF                      84471 non-null  object \n",
      " 3   MUNICIPIO               84471 non-null  object \n",
      " 4   MOTIVO_DESABILITACAO    0 non-null      float64\n",
      " 5   CNES                    84471 non-null  int64  \n",
      " 6   NOME_ESTABELECIMENTO    84471 non-null  object \n",
      " 7   RAZAO_SOCIAL            84471 non-null  object \n",
      " 8   TP_GESTAO               84471 non-null  object \n",
      " 9   CO_TIPO_UNIDADE         84471 non-null  int64  \n",
      " 10  DS_TIPO_UNIDADE         84471 non-null  object \n",
      " 11  NATUREZA_JURIDICA       84471 non-null  int64  \n",
      " 12  DESC_NATUREZA_JURIDICA  84471 non-null  object \n",
      " 13  NO_LOGRADOURO           84471 non-null  object \n",
      " 14  NU_ENDERECO             84471 non-null  object \n",
      " 15  NO_COMPLEMENTO          15621 non-null  object \n",
      " 16  NO_BAIRRO               84471 non-null  object \n",
      " 17  CO_CEP                  84471 non-null  int64  \n",
      " 18  NU_TELEFONE             75028 non-null  object \n",
      " 19  NO_EMAIL                55897 non-null  object \n",
      " 20  LEITOS_EXISTENTES       84471 non-null  int64  \n",
      " 21  LEITOS_SUS              84471 non-null  int64  \n",
      " 22  UTI_TOTAL_EXIST         84471 non-null  int64  \n",
      " 23  UTI_TOTAL_SUS           84471 non-null  int64  \n",
      " 24  UTI_ADULTO_EXIST        84471 non-null  int64  \n",
      " 25  UTI_ADULTO_SUS          84471 non-null  int64  \n",
      " 26  UTI_PEDIATRICO_EXIST    84471 non-null  int64  \n",
      " 27  UTI_PEDIATRICO_SUS      84471 non-null  int64  \n",
      " 28  UTI_NEONATAL_EXIST      84471 non-null  int64  \n",
      " 29  UTI_NEONATAL_SUS        84471 non-null  int64  \n",
      " 30  UTI_QUEIMADO_EXIST      84471 non-null  int64  \n",
      " 31  UTI_QUEIMADO_SUS        84471 non-null  int64  \n",
      " 32  UTI_CORONARIANA_EXIST   84471 non-null  int64  \n",
      " 33  UTI_CORONARIANA_SUS     84471 non-null  int64  \n",
      "dtypes: float64(1), int64(19), object(14)\n",
      "memory usage: 21.9+ MB\n"
     ]
    },
    {
     "data": {
      "text/plain": [
       "None"
      ]
     },
     "metadata": {},
     "output_type": "display_data"
    }
   ],
   "source": [
    "#Importar o primeiro banco de dados de leitos\n",
    "import pandas as pd\n",
    "leitos_23 = pd.read_csv(\"Leitos_2023.csv\", encoding=\"latin-1\")\n",
    "display(leitos_23.info())\n",
    "\n",
    "\n",
    "\n",
    "\n",
    "\n"
   ]
  },
  {
   "cell_type": "code",
   "execution_count": 17,
   "id": "d69652da",
   "metadata": {},
   "outputs": [
    {
     "name": "stdout",
     "output_type": "stream",
     "text": [
      "<class 'pandas.core.frame.DataFrame'>\n",
      "RangeIndex: 85225 entries, 0 to 85224\n",
      "Data columns (total 34 columns):\n",
      " #   Column                  Non-Null Count  Dtype  \n",
      "---  ------                  --------------  -----  \n",
      " 0   COMP                    85225 non-null  int64  \n",
      " 1   REGIAO                  85225 non-null  object \n",
      " 2   UF                      85225 non-null  object \n",
      " 3   MUNICIPIO               85225 non-null  object \n",
      " 4   MOTIVO_DESABILITACAO    0 non-null      float64\n",
      " 5   CNES                    85225 non-null  int64  \n",
      " 6   NOME_ESTABELECIMENTO    85225 non-null  object \n",
      " 7   RAZAO_SOCIAL            85225 non-null  object \n",
      " 8   TP_GESTAO               85225 non-null  object \n",
      " 9   CO_TIPO_UNIDADE         85225 non-null  int64  \n",
      " 10  DS_TIPO_UNIDADE         85225 non-null  object \n",
      " 11  NATUREZA_JURIDICA       85225 non-null  int64  \n",
      " 12  DESC_NATUREZA_JURIDICA  85225 non-null  object \n",
      " 13  NO_LOGRADOURO           85225 non-null  object \n",
      " 14  NU_ENDERECO             85225 non-null  object \n",
      " 15  NO_COMPLEMENTO          15930 non-null  object \n",
      " 16  NO_BAIRRO               85225 non-null  object \n",
      " 17  CO_CEP                  85225 non-null  int64  \n",
      " 18  NU_TELEFONE             75403 non-null  object \n",
      " 19  NO_EMAIL                56878 non-null  object \n",
      " 20  LEITOS_EXISTENTES       85225 non-null  int64  \n",
      " 21  LEITOS_SUS              85225 non-null  int64  \n",
      " 22  UTI_TOTAL_EXIST         85225 non-null  int64  \n",
      " 23  UTI_TOTAL_SUS           85225 non-null  int64  \n",
      " 24  UTI_ADULTO_EXIST        85225 non-null  int64  \n",
      " 25  UTI_ADULTO_SUS          85225 non-null  int64  \n",
      " 26  UTI_PEDIATRICO_EXIST    85225 non-null  int64  \n",
      " 27  UTI_PEDIATRICO_SUS      85225 non-null  int64  \n",
      " 28  UTI_NEONATAL_EXIST      85225 non-null  int64  \n",
      " 29  UTI_NEONATAL_SUS        85225 non-null  int64  \n",
      " 30  UTI_QUEIMADO_EXIST      85225 non-null  int64  \n",
      " 31  UTI_QUEIMADO_SUS        85225 non-null  int64  \n",
      " 32  UTI_CORONARIANA_EXIST   85225 non-null  int64  \n",
      " 33  UTI_CORONARIANA_SUS     85225 non-null  int64  \n",
      "dtypes: float64(1), int64(19), object(14)\n",
      "memory usage: 22.1+ MB\n"
     ]
    },
    {
     "data": {
      "text/plain": [
       "None"
      ]
     },
     "metadata": {},
     "output_type": "display_data"
    }
   ],
   "source": [
    "leitos_24 = pd.read_csv(\"Leitos_2024.csv\", encoding=\"latin-1\")\n",
    "display(leitos_24.info())"
   ]
  },
  {
   "cell_type": "code",
   "execution_count": 18,
   "id": "3cc70a8f",
   "metadata": {},
   "outputs": [
    {
     "name": "stdout",
     "output_type": "stream",
     "text": [
      "<class 'pandas.core.frame.DataFrame'>\n",
      "RangeIndex: 50174 entries, 0 to 50173\n",
      "Data columns (total 35 columns):\n",
      " #   Column                  Non-Null Count  Dtype  \n",
      "---  ------                  --------------  -----  \n",
      " 0   COMP                    50174 non-null  int64  \n",
      " 1   REGIAO                  50174 non-null  object \n",
      " 2   UF                      50174 non-null  object \n",
      " 3   CO_IBGE                 50174 non-null  int64  \n",
      " 4   MUNICIPIO               50174 non-null  object \n",
      " 5   MOTIVO_DESABILITACAO    0 non-null      float64\n",
      " 6   CNES                    50174 non-null  int64  \n",
      " 7   NOME_ESTABELECIMENTO    50172 non-null  object \n",
      " 8   RAZAO_SOCIAL            50174 non-null  object \n",
      " 9   TP_GESTAO               50174 non-null  object \n",
      " 10  CO_TIPO_UNIDADE         50174 non-null  int64  \n",
      " 11  DS_TIPO_UNIDADE         50174 non-null  object \n",
      " 12  NATUREZA_JURIDICA       50174 non-null  int64  \n",
      " 13  DESC_NATUREZA_JURIDICA  50174 non-null  object \n",
      " 14  NO_LOGRADOURO           50174 non-null  object \n",
      " 15  NU_ENDERECO             50174 non-null  object \n",
      " 16  NO_COMPLEMENTO          9588 non-null   object \n",
      " 17  NO_BAIRRO               50174 non-null  object \n",
      " 18  CO_CEP                  50174 non-null  int64  \n",
      " 19  NU_TELEFONE             44350 non-null  object \n",
      " 20  NO_EMAIL                33857 non-null  object \n",
      " 21  LEITOS_EXISTENTES       50174 non-null  int64  \n",
      " 22  LEITOS_SUS              50174 non-null  int64  \n",
      " 23  UTI_TOTAL_EXIST         50174 non-null  int64  \n",
      " 24  UTI_TOTAL_SUS           50174 non-null  int64  \n",
      " 25  UTI_ADULTO_EXIST        50174 non-null  int64  \n",
      " 26  UTI_ADULTO_SUS          50174 non-null  int64  \n",
      " 27  UTI_PEDIATRICO_EXIST    50174 non-null  int64  \n",
      " 28  UTI_PEDIATRICO_SUS      50174 non-null  int64  \n",
      " 29  UTI_NEONATAL_EXIST      50174 non-null  int64  \n",
      " 30  UTI_NEONATAL_SUS        50174 non-null  int64  \n",
      " 31  UTI_QUEIMADO_EXIST      50174 non-null  int64  \n",
      " 32  UTI_QUEIMADO_SUS        50174 non-null  int64  \n",
      " 33  UTI_CORONARIANA_EXIST   50174 non-null  int64  \n",
      " 34  UTI_CORONARIANA_SUS     50174 non-null  int64  \n",
      "dtypes: float64(1), int64(20), object(14)\n",
      "memory usage: 13.4+ MB\n"
     ]
    },
    {
     "data": {
      "text/plain": [
       "None"
      ]
     },
     "metadata": {},
     "output_type": "display_data"
    }
   ],
   "source": [
    "leitos_25 = pd.read_csv(\"Leitos_2025.csv\", encoding=\"latin-1\" , sep=\";\")\n",
    "display(leitos_25.info())"
   ]
  }
 ],
 "metadata": {
  "kernelspec": {
   "display_name": "Python 3",
   "language": "python",
   "name": "python3"
  },
  "language_info": {
   "codemirror_mode": {
    "name": "ipython",
    "version": 3
   },
   "file_extension": ".py",
   "mimetype": "text/x-python",
   "name": "python",
   "nbconvert_exporter": "python",
   "pygments_lexer": "ipython3",
   "version": "3.13.1"
  }
 },
 "nbformat": 4,
 "nbformat_minor": 5
}
